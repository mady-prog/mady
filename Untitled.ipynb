{
  "nbformat": 4,
  "nbformat_minor": 0,
  "metadata": {
    "colab": {
      "provenance": [],
      "include_colab_link": true
    },
    "kernelspec": {
      "name": "python3",
      "display_name": "Python 3"
    },
    "language_info": {
      "name": "python"
    }
  },
  "cells": [
    {
      "cell_type": "markdown",
      "metadata": {
        "id": "view-in-github",
        "colab_type": "text"
      },
      "source": [
        "<a href=\"https://colab.research.google.com/github/mady-prog/mady/blob/main/Untitled.ipynb\" target=\"_parent\"><img src=\"https://colab.research.google.com/assets/colab-badge.svg\" alt=\"Open In Colab\"/></a>"
      ]
    },
    {
      "cell_type": "code",
      "source": [
        "import pandas as pd\n",
        "d=pd.read_csv(\"/content/Mathosh 230901061 - Sheet1.csv\")\n",
        "print(d)"
      ],
      "metadata": {
        "colab": {
          "base_uri": "https://localhost:8080/"
        },
        "id": "CoZuhSXACvqh",
        "outputId": "ef119900-350f-40f9-8c1e-ec26368f7d6c"
      },
      "execution_count": 10,
      "outputs": [
        {
          "output_type": "stream",
          "name": "stdout",
          "text": [
            "    S.No    Employ name Gender  Age                     occupation\n",
            "0      1        Mathosh      M   20                       business\n",
            "1      2  Harshavardhan      M   20             Accounting/Finance\n",
            "2      3        Jithesh      M   20   Advertising/Public Relations\n",
            "3      4          Krish      M   20             Aerospace/Aviation\n",
            "4      5        Kailash      M   20  Arts/Entertainment/Publishing\n",
            "..   ...            ...    ...  ...                            ...\n",
            "94    95      Maithreye      F   20               Banking/Mortgage\n",
            "95    96          Tiger      M   20           Business Development\n",
            "96    97          Pandi      M   20           Business Opportunity\n",
            "97    98       Saravana      M   20        Clerical/Administrative\n",
            "98    99      Anudharan      M   20        Construction/Facilities\n",
            "\n",
            "[99 rows x 5 columns]\n"
          ]
        }
      ]
    },
    {
      "cell_type": "code",
      "source": [
        "df=pd.DataFrame(d)\n",
        "print(\"column\",df.columns)\n",
        "print(df.shape)"
      ],
      "metadata": {
        "colab": {
          "base_uri": "https://localhost:8080/"
        },
        "id": "1mX5LTIUF5g2",
        "outputId": "98a1a903-2941-4759-aa4d-9ffb600a0da7"
      },
      "execution_count": 11,
      "outputs": [
        {
          "output_type": "stream",
          "name": "stdout",
          "text": [
            "column Index(['S.No', 'Employ name', 'Gender', 'Age', 'occupation'], dtype='object')\n",
            "(99, 5)\n"
          ]
        }
      ]
    },
    {
      "cell_type": "code",
      "source": [
        "print(\"Employ name\",df['Employ name'])"
      ],
      "metadata": {
        "colab": {
          "base_uri": "https://localhost:8080/"
        },
        "id": "Z2AtlLSaGNX6",
        "outputId": "00a85282-5c86-43bd-9bf5-6fca670848a6"
      },
      "execution_count": 14,
      "outputs": [
        {
          "output_type": "stream",
          "name": "stdout",
          "text": [
            "Employ name 0           Mathosh\n",
            "1     Harshavardhan\n",
            "2           Jithesh\n",
            "3             Krish\n",
            "4           Kailash\n",
            "          ...      \n",
            "94        Maithreye\n",
            "95            Tiger\n",
            "96            Pandi\n",
            "97         Saravana\n",
            "98        Anudharan\n",
            "Name: Employ name, Length: 99, dtype: object\n"
          ]
        }
      ]
    },
    {
      "cell_type": "code",
      "source": [
        "print(df[5:10])"
      ],
      "metadata": {
        "colab": {
          "base_uri": "https://localhost:8080/"
        },
        "id": "Ogtf-FnTGr4D",
        "outputId": "64e6e3a3-5e6d-430d-ebeb-dc946f9578b0"
      },
      "execution_count": 15,
      "outputs": [
        {
          "output_type": "stream",
          "name": "stdout",
          "text": [
            "   S.No Employ name Gender  Age               occupation\n",
            "5     6    Sandanam      M   20               Automotive\n",
            "6     7      DInesh      M   20         Banking/Mortgage\n",
            "7     8     Kishore      M   20     Business Development\n",
            "8     9      Kaviya      F   20     Business Opportunity\n",
            "9    10      Joshua      M   20  Clerical/Administrative\n"
          ]
        }
      ]
    },
    {
      "cell_type": "code",
      "source": [
        "print(d.loc[d['Age']==20])"
      ],
      "metadata": {
        "colab": {
          "base_uri": "https://localhost:8080/"
        },
        "id": "7iZIil9vGxzs",
        "outputId": "92e46e4c-9be1-4d42-f13d-13c81c7d6890"
      },
      "execution_count": 16,
      "outputs": [
        {
          "output_type": "stream",
          "name": "stdout",
          "text": [
            "    S.No    Employ name Gender  Age                     occupation\n",
            "0      1        Mathosh      M   20                       business\n",
            "1      2  Harshavardhan      M   20             Accounting/Finance\n",
            "2      3        Jithesh      M   20   Advertising/Public Relations\n",
            "3      4          Krish      M   20             Aerospace/Aviation\n",
            "4      5        Kailash      M   20  Arts/Entertainment/Publishing\n",
            "..   ...            ...    ...  ...                            ...\n",
            "94    95      Maithreye      F   20               Banking/Mortgage\n",
            "95    96          Tiger      M   20           Business Development\n",
            "96    97          Pandi      M   20           Business Opportunity\n",
            "97    98       Saravana      M   20        Clerical/Administrative\n",
            "98    99      Anudharan      M   20        Construction/Facilities\n",
            "\n",
            "[99 rows x 5 columns]\n"
          ]
        }
      ]
    }
  ]
}